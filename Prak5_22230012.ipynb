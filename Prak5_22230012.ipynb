{
 "cells": [
  {
   "cell_type": "code",
   "execution_count": null,
   "id": "85b10f59-344c-48fb-911a-811c1cb8ba3a",
   "metadata": {},
   "outputs": [],
   "source": [
    "import requests\n",
    "import json\n",
    "import pandas as pd\n",
    "\n",
    "BEARER_TOKEN = 'AAAAAAAAAAAAAAAAAAAAABd60gEAAAAAD%2FTCVp5JtPueszuS%2FV2DWMlebIM%3D575K3ROEIw6fbEBDK3fMMjg0NYNGZgcSJCWRso47GanYUC93rc'\n",
    "\n",
    "query = 'perang dagang cina amerika' \n",
    "\n",
    "search_url = \"https://api.twitter.com/2/tweets/search/recent\"\n",
    "\n",
    "query_params = {\n",
    "    'query': query,\n",
    "    'max_results': 50,  \n",
    "    'tweet.fields': 'author_id,created_at,public_metrics',\n",
    "    'expansions': 'author_id',\n",
    "    'user.fields': 'username'\n",
    "}\n",
    "\n",
    "headers = {\n",
    "    'Authorization': f'Bearer {BEARER_TOKEN}',\n",
    "    'User-Agent': 'v2RecentSearchPython'\n",
    "}\n",
    "\n",
    "def connect_to_endpoint(url, headers, params):\n",
    "    response = requests.get(url, headers=headers, params=params)\n",
    "    if response.status_code != 200:\n",
    "        raise Exception(f\"Request gagal: {response.status_code}, {response.text}\")\n",
    "    return response.json()\n",
    "\n",
    "json_response = connect_to_endpoint(search_url, headers, query_params)\n",
    "\n",
    "tweets_data = []\n",
    "for tweet in json_response['data']:\n",
    "    tweets_data.append({\n",
    "        'Tweet ID': tweet['id'],\n",
    "        'Author ID': tweet['author_id'],\n",
    "        'Tanggal': tweet['created_at'],\n",
    "        'Isi Tweet': tweet['text'],\n",
    "        'Retweet Count': tweet['public_metrics']['retweet_count'],\n",
    "        'Reply Count': tweet['public_metrics']['reply_count'],\n",
    "        'Like Count': tweet['public_metrics']['like_count'],\n",
    "        'Quote Count': tweet['public_metrics']['quote_count']\n",
    "    })\n",
    "\n",
    "df = pd.DataFrame(tweets_data)\n",
    "df.to_csv('D:\\\\Kelompok3_22230012.csv', index=False)\n",
    "\n",
    "print(\"Sukses! Data disimpan di hasil_crawling_twitter.csv\")\n"
   ]
  }
 ],
 "metadata": {
  "kernelspec": {
   "display_name": "Python [conda env:base] *",
   "language": "python",
   "name": "conda-base-py"
  },
  "language_info": {
   "codemirror_mode": {
    "name": "ipython",
    "version": 3
   },
   "file_extension": ".py",
   "mimetype": "text/x-python",
   "name": "python",
   "nbconvert_exporter": "python",
   "pygments_lexer": "ipython3",
   "version": "3.12.7"
  }
 },
 "nbformat": 4,
 "nbformat_minor": 5
}
